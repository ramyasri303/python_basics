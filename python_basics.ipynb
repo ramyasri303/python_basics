{
  "nbformat": 4,
  "nbformat_minor": 0,
  "metadata": {
    "colab": {
      "provenance": []
    },
    "kernelspec": {
      "name": "python3",
      "display_name": "Python 3"
    },
    "language_info": {
      "name": "python"
    }
  },
  "cells": [
    {
      "cell_type": "markdown",
      "source": [
        "#functions"
      ],
      "metadata": {
        "id": "hq7g80IV7fm0"
      }
    },
    {
      "cell_type": "markdown",
      "source": [
        "1. What is Python, and why is it popular?\n",
        "   ->"
      ],
      "metadata": {
        "id": "hSYFlBJn79JE"
      }
    },
    {
      "cell_type": "code",
      "source": [],
      "metadata": {
        "id": "MMprt9QS7pyu"
      },
      "execution_count": null,
      "outputs": []
    }
  ]
}