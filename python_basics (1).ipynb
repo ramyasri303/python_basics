{
  "nbformat": 4,
  "nbformat_minor": 0,
  "metadata": {
    "colab": {
      "provenance": []
    },
    "kernelspec": {
      "name": "python3",
      "display_name": "Python 3"
    },
    "language_info": {
      "name": "python"
    }
  },
  "cells": [
    {
      "cell_type": "markdown",
      "source": [
        "#python basics"
      ],
      "metadata": {
        "id": "hq7g80IV7fm0"
      }
    },
    {
      "cell_type": "markdown",
      "source": [
        "1. What is Python, and why is it popular?\n",
        "  ->python is a proggaming language.its used many tasks including web developement,dta structure and game developement\n",
        "   **why?*\n",
        "   easy to learn,open source\n",
        "   versatile\n",
        "   supported by major"
      ],
      "metadata": {
        "id": "hSYFlBJn79JE"
      }
    },
    {
      "cell_type": "markdown",
      "source": [
        "2. What is an interpreter in Python?\n",
        "   -> In Python, an interpreter is a program that reads and executes Python code line by line, translating it into machine-readable instructions and allowing for immediate results\n",
        "\n",
        "\n",
        "\n"
      ],
      "metadata": {
        "id": "JGv4kXJuB9cz"
      }
    },
    {
      "cell_type": "markdown",
      "source": [
        " 3. What are pre-defined keywords in Python?\n",
        " -> Pre-defined keywords in Python are reserved words that have special meanings and cannot be used as identifiers (variable names, function names, etc.). These keywords define the syntax and structure of the Python language\n",
        " Keyword\tDescription\n",
        "False\tBoolean false value\n",
        "None\tRepresents a null value\n",
        "True\tBoolean true value\n",
        "and\tLogical AND operator\n",
        "as\tAlias for modules (import module as alias)\n",
        "assert\tUsed for debugging\n",
        "async\tDefines asynchronous functions\n",
        "await\tUsed in asynchronous functions\n",
        "break\tExits a loop\n",
        "class\tDefines a class\n",
        "continue\tSkips current iteration and continues loop\n",
        "def\tDefines a function"
      ],
      "metadata": {
        "id": "B5wwc0Nb-ViV"
      }
    },
    {
      "cell_type": "markdown",
      "source": [
        "4. Can keywords be used as variable names?\n",
        "-> No, keywords cannot be used as variable names in Python.\n",
        "if = 10  # ❌ This will cause a SyntaxError\n",
        "print(if) it becomes syntax error\n"
      ],
      "metadata": {
        "id": "F7v0g4lh-yao"
      }
    },
    {
      "cell_type": "markdown",
      "source": [
        "5. What is mutability in Python?\n",
        "-> Mutability in Python refers to whether an object’s state (its data) can be changed after it is created.\n",
        "Types of Objects Based on Mutability\n",
        "1.Mutable Objects (Can be changed after creation)\n",
        "2.Immutable Objects (Cannot be changed after creation)\n",
        "1. mutable objects:\n",
        "Lists (list)\n",
        "\n",
        "Dictionaries (dict)\n",
        "\n",
        "Sets (set)\n",
        "\n",
        "Byte Arrays (bytearray)\n",
        "2.immutable objects:\n",
        "Integers (int)\n",
        "\n",
        "Floating-point numbers (float)\n",
        "\n",
        "Strings (str)\n",
        "\n",
        "Tuples (tuple)\n",
        "\n",
        "Frozen Sets (frozenset)\n",
        "\n",
        "Booleans (bool)\n",
        "\n"
      ],
      "metadata": {
        "id": "MKDVF4zX-9Dq"
      }
    },
    {
      "cell_type": "markdown",
      "source": [
        "6. Why are lists mutable, but tuples are immutable?\n",
        "-> The key difference between lists and tuples in Python lies in how they are stored in memory and designed for usage.\n",
        "1. Lists Are Mutable (Can Be Changed)\n",
        "Lists are designed to be dynamic, meaning they can grow, shrink, and have their elements modified.\n",
        "\n",
        "They allow in-place modification, which makes them efficient for use cases where frequent changes are needed.\n",
        "ex:\n",
        "my_list = [1, 2, 3]\n",
        "my_list[0] = 10  # ✅ Allowed\n",
        "print(my_list)  # Output: [10, 2, 3]\n",
        "2. Tuples Are Immutable (Cannot Be Changed)\n",
        "Tuples are designed for fixed collections of items.\n",
        "Once created, their elements cannot be changed, added, or removed.\n",
        "Tuples are stored in a more optimized way compared to lists, making them faster for iteration and lookup.\n",
        "Example: Trying to Modify a Tuple\n",
        "python\n",
        "Copy\n",
        "Edit\n",
        "my_tuple = (1, 2, 3)\n",
        "my_tuple[0] = 10  # ❌ This will cause an error\n"
      ],
      "metadata": {
        "id": "_R75u0wB_NsC"
      }
    },
    {
      "cell_type": "markdown",
      "source": [
        "7. What is the difference between “==” and “is” operators in Python?\n",
        "->  Checks\tExample\n",
        "==\tEquality operator\tCompares values\ta == b (Do a and b have the same value?)\n",
        "is\tIdentity operator\tCompares memory addresses\ta is b (Do a and b refer to the same object in memory?)\n"
      ],
      "metadata": {
        "id": "SoHtJ9Xe_Z5d"
      }
    },
    {
      "cell_type": "markdown",
      "source": [
        "8. What are logical operators is pthon?\n",
        "-> Logical operators in Python are used to combine conditional statements and return Boolean values (True or False).\n",
        "\tExample\n",
        "and\n",
        "Returns True if both conditions are True\t(5 > 2) and (10 > 3) → True\n",
        "or\n",
        "Returns True if at least one condition is True\t(5 > 2) or (10 < 3) → True\n",
        "not\n",
        "\tReverses the Boolean value (True → False, False → True)\tnot(5 > 2) → False"
      ],
      "metadata": {
        "id": "2V-d1CWrFK0K"
      }
    },
    {
      "cell_type": "markdown",
      "source": [
        "9. What is type casting in Python?\n",
        "-> Type casting (also called type conversion) is the process of converting one data type into another.\n",
        "\n",
        "Python provides two types of type conversion:\n",
        "\n",
        "Implicit Type Casting (Automatic by Python)\n",
        "\n",
        "Explicit Type Casting (Manual by the user)\n"
      ],
      "metadata": {
        "id": "j-LQQSq3Ge5k"
      }
    },
    {
      "cell_type": "markdown",
      "source": [
        "10. What is the difference between implicit and explicit type casting ?\n",
        "-> Definition\tPython automatically converts a smaller data type into a larger data type to prevent data loss.\tThe user manually converts one data type into another using built-in functions like int(), float(), str(), etc.\n",
        "Who Performs It?\tPython interpreter\tProgrammer (Manually)\n",
        "Risk of Data Loss?\tNo, Python ensures safe conversion.\tYes, there is a risk of data loss (e.g., converting a float to an int).\n",
        "Use Case\tHappens in mathematical operations where different types are involved.\tNeeded when input types don’t match the expected type.\n",
        "Example\tint + float → float\tstr to int using int(\"10\")"
      ],
      "metadata": {
        "id": "YHfRiiwhGbVv"
      }
    },
    {
      "cell_type": "markdown",
      "source": [
        "11. What is the purpose of conditional statements in Python?\n",
        "-> Conditional statements in Python allow a program to make decisions and execute different code based on certain conditions. They help control the flow of execution depending on whether a condition is True or False.\n",
        "if\tExecutes a block of code if a condition is True.\n",
        "if-else\tExecutes one block if the condition is True, otherwise executes another block.\n",
        "if-elif-else\tChecks multiple conditions in sequence and executes the first True condition.\n",
        "nested if\tif statements inside another if statement.\n"
      ],
      "metadata": {
        "id": "SfC3OmhBGbLA"
      }
    },
    {
      "cell_type": "markdown",
      "source": [
        "12. How does the elif statement work?\n",
        "->  The elif (short for \"else if\") statement allows you to check multiple conditions in sequence. It is used when you have more than two possible outcomes for a decision.\n",
        "\n",
        "How elif Works\n",
        "The program checks the first if condition.\n",
        "\n",
        "If True, it executes the corresponding block and skips the rest.\n",
        "\n",
        "If False, it moves to the elif condition and checks it.\n",
        "\n",
        "If an elif condition is True, it executes its block and skips the rest.\n",
        "\n",
        "If none of the conditions are True, the else block (if present) executes."
      ],
      "metadata": {
        "id": "vssK2YvWGa5v"
      }
    },
    {
      "cell_type": "markdown",
      "source": [
        "13. What is the difference between for and while loops?\n",
        "->\n",
        "Feature\tfor Loop\twhile Loop\n",
        "Use Case\tUsed when the number of iterations is known\tUsed when the number of iterations is unknown and depends on a condition\n",
        "Loop Type\tIterates over a sequence (list, tuple, string, range, etc.)\tRepeats as long as a condition is True\n",
        "Control Mechanism\tUses an iterator\tUses a condition\n",
        "Best Used For\tWhen looping through elements of a collection\tWhen looping until a specific condition is met"
      ],
      "metadata": {
        "id": "2cAvm6pnGaqq"
      }
    },
    {
      "cell_type": "markdown",
      "source": [
        "14. Describe a scenario where a while loop is more suitable than a for loop?\n",
        "->  A while loop is best when we don’t know in advance how many times the loop needs to run.\n",
        "\n",
        "Scenario: User Authentication System\n",
        "Imagine we are creating a password authentication system where the user must enter the correct password to gain access. Since we don’t know how many attempts the user will takee, a while loop is the best choic"
      ],
      "metadata": {
        "id": "76tA1doPGYwe"
      }
    },
    {
      "cell_type": "markdown",
      "source": [
        "1. Write a Python program to print \"Hello, World!"
      ],
      "metadata": {
        "id": "GlfkvCanLjxs"
      }
    },
    {
      "cell_type": "code",
      "source": [
        "print(\"hello,world!\")"
      ],
      "metadata": {
        "colab": {
          "base_uri": "https://localhost:8080/"
        },
        "id": "Vo3xEXiKLiYZ",
        "outputId": "f76b2a8a-386c-4923-e612-1726d9ec385d"
      },
      "execution_count": 1,
      "outputs": [
        {
          "output_type": "stream",
          "name": "stdout",
          "text": [
            "hello,world!\n"
          ]
        }
      ]
    },
    {
      "cell_type": "markdown",
      "source": [
        "2. Write a Python program that displays your name and age"
      ],
      "metadata": {
        "id": "9sAzemRZMLB3"
      }
    },
    {
      "cell_type": "code",
      "source": [
        "name = \"meghana\"\n",
        "age = 21\n",
        "print(\"My name is\", name)\n",
        "print(\"My age is\", age)"
      ],
      "metadata": {
        "colab": {
          "base_uri": "https://localhost:8080/"
        },
        "id": "94aLdw-PMWAT",
        "outputId": "55c27a44-73a8-4a46-e46f-4796fcdb36de"
      },
      "execution_count": 3,
      "outputs": [
        {
          "output_type": "stream",
          "name": "stdout",
          "text": [
            "My name is meghana\n",
            "My age is 21\n"
          ]
        }
      ]
    },
    {
      "cell_type": "markdown",
      "source": [
        "3. Write code to print all the pre-defined keywords in Python using the keyword library?"
      ],
      "metadata": {
        "id": "HQDf7pDjNa6H"
      }
    },
    {
      "cell_type": "code",
      "source": [
        "import keyword\n",
        "keywords_list = keyword.kwlist\n",
        "print(\"Python Keywords:\")\n",
        "for kw in keywords_list:\n",
        "    print(kw)"
      ],
      "metadata": {
        "colab": {
          "base_uri": "https://localhost:8080/"
        },
        "id": "4SXVihGGN0wr",
        "outputId": "581d8d7a-28c1-4da6-e12f-95d88698648f"
      },
      "execution_count": 4,
      "outputs": [
        {
          "output_type": "stream",
          "name": "stdout",
          "text": [
            "Python Keywords:\n",
            "False\n",
            "None\n",
            "True\n",
            "and\n",
            "as\n",
            "assert\n",
            "async\n",
            "await\n",
            "break\n",
            "class\n",
            "continue\n",
            "def\n",
            "del\n",
            "elif\n",
            "else\n",
            "except\n",
            "finally\n",
            "for\n",
            "from\n",
            "global\n",
            "if\n",
            "import\n",
            "in\n",
            "is\n",
            "lambda\n",
            "nonlocal\n",
            "not\n",
            "or\n",
            "pass\n",
            "raise\n",
            "return\n",
            "try\n",
            "while\n",
            "with\n",
            "yield\n"
          ]
        }
      ]
    },
    {
      "cell_type": "markdown",
      "source": [
        "4. Write a program that checks if a given word is a Python keyword.\n"
      ],
      "metadata": {
        "id": "s019wu35QZMS"
      }
    },
    {
      "cell_type": "code",
      "source": [
        "import keyword\n",
        "word = input(\"Enter a word: \")\n",
        "if keyword.iskeyword(word):\n",
        "    print(f\"'{word}' is a Python keyword.\")\n",
        "else:\n",
        "    print(f\"'{word}' is NOT a Python keyword.\")\n"
      ],
      "metadata": {
        "colab": {
          "base_uri": "https://localhost:8080/"
        },
        "id": "8aSo_kS4QaY5",
        "outputId": "1e07fc39-c351-41e6-974b-f5e902b3673c"
      },
      "execution_count": 5,
      "outputs": [
        {
          "output_type": "stream",
          "name": "stdout",
          "text": [
            "Enter a word: if\n",
            "'if' is a Python keyword.\n"
          ]
        }
      ]
    },
    {
      "cell_type": "markdown",
      "source": [
        "5. Create a list and tuple in Python, and demonstrate how attempting to change an element works differently\n",
        "for each?"
      ],
      "metadata": {
        "id": "DYkwpaehanfX"
      }
    },
    {
      "cell_type": "code",
      "source": [
        "my_list = [10, 20, 30]\n",
        "print(\"Original List:\", my_list)\n",
        "my_list[1] = 25\n",
        "print(\"Modified List:\", my_list)\n",
        "my_tuple = (10, 20, 30)\n",
        "print(\"\\nOriginal Tuple:\", my_tuple)\n",
        "try:\n",
        "    my_tuple[1] = 25\n",
        "except TypeError as e:\n",
        "    print(\"Error:\", e)"
      ],
      "metadata": {
        "colab": {
          "base_uri": "https://localhost:8080/"
        },
        "id": "yXp0j_RkatYO",
        "outputId": "4972702e-0670-443f-b28d-78c1bec5eaa6"
      },
      "execution_count": 7,
      "outputs": [
        {
          "output_type": "stream",
          "name": "stdout",
          "text": [
            "Original List: [10, 20, 30]\n",
            "Modified List: [10, 25, 30]\n",
            "\n",
            "Original Tuple: (10, 20, 30)\n",
            "Error: 'tuple' object does not support item assignment\n"
          ]
        }
      ]
    },
    {
      "cell_type": "markdown",
      "source": [
        "6. Write a function to demonstrate the behavior of mutable and immutable arguments?"
      ],
      "metadata": {
        "id": "mDITtSs3bFkD"
      }
    },
    {
      "cell_type": "code",
      "source": [
        "def modify_immutable(x):\n",
        "    print(f\"Original (before change): {x}\")\n",
        "    x += 10\n",
        "    print(f\"Modified (inside function): {x}\")\n",
        "def modify_mutable(lst):\n",
        "    \"\"\"Modifies a mutable argument (list).\"\"\"\n",
        "    print(f\"Original (before change): {lst}\")\n",
        "    lst.append(100)\n",
        "    print(f\"Modified (inside function): {lst}\")\n",
        "num = 50\n",
        "print(\"\\nImmutable Example (Integer):\")\n",
        "modify_immutable(num)\n",
        "print(f\"Outside function: {num}\")\n",
        "my_list = [1, 2, 3]\n",
        "print(\"\\nMutable Example (List):\")\n",
        "modify_mutable(my_list)\n",
        "print(f\"Outside function: {my_list}\")"
      ],
      "metadata": {
        "colab": {
          "base_uri": "https://localhost:8080/"
        },
        "id": "dx7Wtx4NbN34",
        "outputId": "507316de-e767-4344-a690-ec619e486b25"
      },
      "execution_count": 8,
      "outputs": [
        {
          "output_type": "stream",
          "name": "stdout",
          "text": [
            "\n",
            "Immutable Example (Integer):\n",
            "Original (before change): 50\n",
            "Modified (inside function): 60\n",
            "Outside function: 50\n",
            "\n",
            "Mutable Example (List):\n",
            "Original (before change): [1, 2, 3]\n",
            "Modified (inside function): [1, 2, 3, 100]\n",
            "Outside function: [1, 2, 3, 100]\n"
          ]
        }
      ]
    },
    {
      "cell_type": "markdown",
      "source": [
        "7. . Write a program that performs basic arithmetic operations on two user-input numbers?"
      ],
      "metadata": {
        "id": "lav7tN31bfdQ"
      }
    },
    {
      "cell_type": "code",
      "source": [
        "num1 = float(input(\"Enter the first number: \"))\n",
        "num2 = float(input(\"Enter the second number: \"))\n",
        "addition = num1 + num2\n",
        "subtraction = num1 - num2\n",
        "multiplication = num1 * num2\n",
        "if num2 != 0:\n",
        "    division = num1 / num2\n",
        "    modulus = num1 % num2\n",
        "else:\n",
        "    division = \"Undefined (Cannot divide by zero)\"\n",
        "    modulus = \"Undefined (Cannot divide by zero)\"\n",
        "print(\"\\nResults of Arithmetic Operations:\")\n",
        "print(f\"Addition: {num1} + {num2} = {addition}\")\n",
        "print(f\"Subtraction: {num1} - {num2} = {subtraction}\")\n",
        "print(f\"Multiplication: {num1} × {num2} = {multiplication}\")\n",
        "print(f\"Division: {num1} ÷ {num2} = {division}\")\n",
        "print(f\"Modulus: {num1} % {num2} = {modulus}\")"
      ],
      "metadata": {
        "colab": {
          "base_uri": "https://localhost:8080/"
        },
        "id": "Mxv3a2T8bmh1",
        "outputId": "1dcaf2a7-dd20-4dfb-864f-2367c71dbaaa"
      },
      "execution_count": 9,
      "outputs": [
        {
          "output_type": "stream",
          "name": "stdout",
          "text": [
            "Enter the first number: 1\n",
            "Enter the second number: 5\n",
            "\n",
            "Results of Arithmetic Operations:\n",
            "Addition: 1.0 + 5.0 = 6.0\n",
            "Subtraction: 1.0 - 5.0 = -4.0\n",
            "Multiplication: 1.0 × 5.0 = 5.0\n",
            "Division: 1.0 ÷ 5.0 = 0.2\n",
            "Modulus: 1.0 % 5.0 = 1.0\n"
          ]
        }
      ]
    },
    {
      "cell_type": "markdown",
      "source": [
        "8.  Write a program to demonstrate the use of logical operators?"
      ],
      "metadata": {
        "id": "qvix7HCmbrl_"
      }
    },
    {
      "cell_type": "code",
      "source": [
        "a = int(input(\"Enter first number: \"))\n",
        "b = int(input(\"Enter second number: \"))\n",
        "and_result = (a > 0) and (b > 0)\n",
        "or_result = (a > 0) or (b > 0)\n",
        "not_result = not(a > 0)\n",
        "print(\"\\nLogical Operators Demonstration:\")\n",
        "print(f\"({a} > 0) and ({b} > 0) → {and_result}\")\n",
        "print(f\"({a} > 0) or ({b} > 0) → {or_result}\")\n",
        "print(f\"not({a} > 0) → {not_result}\")"
      ],
      "metadata": {
        "colab": {
          "base_uri": "https://localhost:8080/"
        },
        "id": "nHKXGI1VbyC2",
        "outputId": "9783914a-29be-4972-e0d4-418733eff44b"
      },
      "execution_count": 10,
      "outputs": [
        {
          "output_type": "stream",
          "name": "stdout",
          "text": [
            "Enter first number: 4\n",
            "Enter second number: 7\n",
            "\n",
            "Logical Operators Demonstration:\n",
            "(4 > 0) and (7 > 0) → True\n",
            "(4 > 0) or (7 > 0) → True\n",
            "not(4 > 0) → False\n"
          ]
        }
      ]
    },
    {
      "cell_type": "markdown",
      "source": [
        "9. Write a Python program to convert user input from string to integer, float, and boolean types?"
      ],
      "metadata": {
        "id": "7TqMXwuZcSp7"
      }
    },
    {
      "cell_type": "code",
      "source": [
        "user_input = input(\"Enter a value: \")\n",
        "try:\n",
        "    int_value = int(user_input)\n",
        "except ValueError:\n",
        "    int_value = \"Cannot convert to integer\"\n",
        "try:\n",
        "    float_value = float(user_input)\n",
        "except ValueError:\n",
        "    float_value = \"Cannot convert to float\"\n",
        "bool_value = bool(user_input)\n",
        "print(\"\\nType Conversions:\")\n",
        "print(f\"String: '{user_input}'\")\n",
        "print(f\"Integer: {int_value}\")\n",
        "print(f\"Float: {float_value}\")\n",
        "print(f\"Boolean: {bool_value}\")"
      ],
      "metadata": {
        "colab": {
          "base_uri": "https://localhost:8080/"
        },
        "id": "0zjL_mfVcY1t",
        "outputId": "dd04535f-7047-45a0-a109-e276afdcdde1"
      },
      "execution_count": 12,
      "outputs": [
        {
          "output_type": "stream",
          "name": "stdout",
          "text": [
            "Enter a value: 25\n",
            "\n",
            "Type Conversions:\n",
            "String: '25'\n",
            "Integer: 25\n",
            "Float: 25.0\n",
            "Boolean: True\n"
          ]
        }
      ]
    },
    {
      "cell_type": "markdown",
      "source": [
        "10. Write code to demonstrate type casting with list elements?"
      ],
      "metadata": {
        "id": "q9nJfHCEca2H"
      }
    },
    {
      "cell_type": "code",
      "source": [
        "string_list = [\"10\", \"20.5\", \"hello\", \"\", \"0\", \"True\"]\n",
        "int_list = []\n",
        "for item in string_list:\n",
        "    try:\n",
        "        int_list.append(int(item))\n",
        "    except ValueError:\n",
        "        int_list.append(\"Cannot convert\")\n",
        "float_list = []\n",
        "for item in string_list:\n",
        "    try:\n",
        "        float_list.append(float(item))\n",
        "    except ValueError:\n",
        "        float_list.append(\"Cannot convert\")\n",
        "bool_list = [bool(item) for item in string_list]\n",
        "print(\"Original List:\", string_list)\n",
        "print(\"Integer Conversion:\", int_list)\n",
        "print(\"Float Conversion:\", float_list)\n",
        "print(\"Boolean Conversion:\", bool_list)"
      ],
      "metadata": {
        "colab": {
          "base_uri": "https://localhost:8080/"
        },
        "id": "LTDkxTfsck7t",
        "outputId": "6975bd23-daa4-441e-fce5-dfe6eb359bf1"
      },
      "execution_count": 13,
      "outputs": [
        {
          "output_type": "stream",
          "name": "stdout",
          "text": [
            "Original List: ['10', '20.5', 'hello', '', '0', 'True']\n",
            "Integer Conversion: [10, 'Cannot convert', 'Cannot convert', 'Cannot convert', 0, 'Cannot convert']\n",
            "Float Conversion: [10.0, 20.5, 'Cannot convert', 'Cannot convert', 0.0, 'Cannot convert']\n",
            "Boolean Conversion: [True, True, True, False, True, True]\n"
          ]
        }
      ]
    },
    {
      "cell_type": "markdown",
      "source": [
        "11. . Write a program that checks if a number is positive, negative, or zero?"
      ],
      "metadata": {
        "id": "_wcS1ZL-dJYP"
      }
    },
    {
      "cell_type": "code",
      "source": [
        "num = float(input(\"Enter a number: \"))\n",
        "if num > 0:\n",
        "    print(f\"{num} is a Positive number.\")\n",
        "elif num < 0:\n",
        "    print(f\"{num} is a Negative number.\")\n",
        "else:\n",
        "    print(f\"{num} is Zero.\")"
      ],
      "metadata": {
        "colab": {
          "base_uri": "https://localhost:8080/"
        },
        "id": "sVe__aX-dQe9",
        "outputId": "9e2250fd-3bd0-43ae-82d6-8ab0840b9d09"
      },
      "execution_count": 14,
      "outputs": [
        {
          "output_type": "stream",
          "name": "stdout",
          "text": [
            "Enter a number: 6\n",
            "6.0 is a Positive number.\n"
          ]
        }
      ]
    },
    {
      "cell_type": "markdown",
      "source": [
        "12. Write a for loop to print numbers from 1 to 10?"
      ],
      "metadata": {
        "id": "yPdaBheHdTjD"
      }
    },
    {
      "cell_type": "code",
      "source": [
        "for num in range(1, 11):\n",
        "    print(num)"
      ],
      "metadata": {
        "colab": {
          "base_uri": "https://localhost:8080/"
        },
        "id": "fgjrehBLddPc",
        "outputId": "c1bc2b01-8a15-4e6f-cd2a-caaf33dfb152"
      },
      "execution_count": 15,
      "outputs": [
        {
          "output_type": "stream",
          "name": "stdout",
          "text": [
            "1\n",
            "2\n",
            "3\n",
            "4\n",
            "5\n",
            "6\n",
            "7\n",
            "8\n",
            "9\n",
            "10\n"
          ]
        }
      ]
    },
    {
      "cell_type": "markdown",
      "source": [
        "13. Write a Python program to find the sum of all even numbers between 1 and 50?"
      ],
      "metadata": {
        "id": "lFyGLIobdufO"
      }
    },
    {
      "cell_type": "code",
      "source": [
        "sum_even = 0\n",
        "for num in range(2, 51, 2):\n",
        "    sum_even += num\n",
        "print(\"Sum of all even numbers between 1 and 50 is:\", sum_even)"
      ],
      "metadata": {
        "colab": {
          "base_uri": "https://localhost:8080/"
        },
        "id": "ug0AXigLd0jz",
        "outputId": "85a62a21-b87d-4b90-9f28-d946ec5399f9"
      },
      "execution_count": 16,
      "outputs": [
        {
          "output_type": "stream",
          "name": "stdout",
          "text": [
            "Sum of all even numbers between 1 and 50 is: 650\n"
          ]
        }
      ]
    },
    {
      "cell_type": "markdown",
      "source": [
        "14.  Write a program to reverse a string using a while loop?"
      ],
      "metadata": {
        "id": "esskRgB5d3q-"
      }
    },
    {
      "cell_type": "code",
      "source": [
        "text = input(\"Enter a string: \")\n",
        "reversed_text = \"\"\n",
        "index = len(text) - 1\n",
        "while index >= 0:\n",
        "    reversed_text += text[index]\n",
        "    index -= 1\n",
        "print(\"Reversed string:\", reversed_text)\n"
      ],
      "metadata": {
        "colab": {
          "base_uri": "https://localhost:8080/"
        },
        "id": "UDdqzV95d7-6",
        "outputId": "a22f789a-6d0a-4ab9-de1f-63b7475a0492"
      },
      "execution_count": 17,
      "outputs": [
        {
          "output_type": "stream",
          "name": "stdout",
          "text": [
            "Enter a string: hello\n",
            "Reversed string: olleh\n"
          ]
        }
      ]
    },
    {
      "cell_type": "markdown",
      "source": [
        "15.  Write a Python program to calculate the factorial of a number provided by the user using a while loop?"
      ],
      "metadata": {
        "id": "3H7vTDb1eWBA"
      }
    },
    {
      "cell_type": "code",
      "source": [
        "num = int(input(\"Enter a number: \"))\n",
        "factorial = 1\n",
        "i = num\n",
        "while i > 0:\n",
        "    factorial *= i\n",
        "    i -= 1\n",
        "print(f\"Factorial of {num} is: {factorial}\")"
      ],
      "metadata": {
        "colab": {
          "base_uri": "https://localhost:8080/"
        },
        "id": "Y_C5UejJek-p",
        "outputId": "ec99cda4-3745-41b8-e217-57713984c992"
      },
      "execution_count": 18,
      "outputs": [
        {
          "output_type": "stream",
          "name": "stdout",
          "text": [
            "Enter a number: 5\n",
            "Factorial of 5 is: 120\n"
          ]
        }
      ]
    }
  ]
}